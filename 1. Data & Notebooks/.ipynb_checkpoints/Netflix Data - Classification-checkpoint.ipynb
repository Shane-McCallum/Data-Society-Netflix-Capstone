{
 "cells": [
  {
   "cell_type": "markdown",
   "id": "79fb544b",
   "metadata": {},
   "source": [
    "# Netflix Data: Classification\n",
    "\n",
    "## Part 1 - Loading Data\n",
    "\n",
    "Hypothesis: \n",
    "\n",
    "Null Hypothesis: "
   ]
  },
  {
   "cell_type": "code",
   "execution_count": 1,
   "id": "16cd52ec",
   "metadata": {},
   "outputs": [
    {
     "name": "stdout",
     "output_type": "stream",
     "text": [
      "D:\\mccal1\\Documents\\GitHub\\Data-Society-Netflix-Capstone\n",
      "D:\\mccal1\\Documents\\GitHub\\Data-Society-Netflix-Capstone\\1. Data & Notebooks\n"
     ]
    }
   ],
   "source": [
    "\n",
    "import os\n",
    "from pathlib import Path\n",
    "import pandas as pd # for importing, reading, cleaning csv files\n",
    "import numpy as np # for maths, of course\n",
    "import matplotlib.pyplot as plt # so we can plot\n",
    "import seaborn as sns\n",
    "import plotly.express as px\n",
    "from textwrap import wrap\n",
    "from sklearn.model_selection import train_test_split,cross_validate, GridSearchCV, learning_curve\n",
    "from sklearn.preprocessing import StandardScaler, MinMaxScaler\n",
    "from sklearn.dummy import DummyRegressor\n",
    "from sklearn import tree, metrics\n",
    "from sklearn.pipeline import make_pipeline\n",
    "from sklearn.impute import SimpleImputer\n",
    "from sklearn.ensemble import RandomForestRegressor, RandomForestClassifier\n",
    "from sklearn.metrics import precision_score, accuracy_score, recall_score, f1_score\n",
    "from sklearn.ensemble import GradientBoostingClassifier\n",
    "import warnings\n",
    "warnings.filterwarnings(\"ignore\")\n",
    "\n",
    "home_dir = Path(\".\").resolve()\n",
    "# for BAH machine\n",
    "# main_dir = home_dir.parent.parent\n",
    "main_dir = home_dir.parent\n",
    "print(main_dir)\n",
    "# for BAH machine \n",
    "# data_dir = str(main_dir)+r'\\Data Society\\Capstone\\Data-Society-Netflix-Capstone\\1. Data & Notebooks'\n",
    "data_dir = str(main_dir)+r'\\1. Data & Notebooks'\n",
    "print(data_dir)"
   ]
  },
  {
   "cell_type": "code",
   "execution_count": 2,
   "id": "faddf210",
   "metadata": {
    "scrolled": false
   },
   "outputs": [
    {
     "name": "stdout",
     "output_type": "stream",
     "text": [
      "id                       object\n",
      "title                    object\n",
      "type                     object\n",
      "release_year              int64\n",
      "age_certification        object\n",
      "runtime                   int64\n",
      "genres                   object\n",
      "production_countries     object\n",
      "seasons                 float64\n",
      "imdb_id                  object\n",
      "imdb_score              float64\n",
      "imdb_votes              float64\n",
      "tmdb_popularity         float64\n",
      "tmdb_score              float64\n",
      "person_id                 int64\n",
      "name                     object\n",
      "character                object\n",
      "role                     object\n",
      "dtype: object\n",
      "(72065, 18)\n",
      "<class 'pandas.core.frame.DataFrame'>\n",
      "RangeIndex: 72065 entries, 0 to 72064\n",
      "Data columns (total 18 columns):\n",
      " #   Column                Non-Null Count  Dtype  \n",
      "---  ------                --------------  -----  \n",
      " 0   id                    72065 non-null  object \n",
      " 1   title                 72065 non-null  object \n",
      " 2   type                  72065 non-null  object \n",
      " 3   release_year          72065 non-null  int64  \n",
      " 4   age_certification     72065 non-null  object \n",
      " 5   runtime               72065 non-null  int64  \n",
      " 6   genres                72065 non-null  object \n",
      " 7   production_countries  72065 non-null  object \n",
      " 8   seasons               72065 non-null  float64\n",
      " 9   imdb_id               72065 non-null  object \n",
      " 10  imdb_score            72065 non-null  float64\n",
      " 11  imdb_votes            72065 non-null  float64\n",
      " 12  tmdb_popularity       72065 non-null  float64\n",
      " 13  tmdb_score            72065 non-null  float64\n",
      " 14  person_id             72065 non-null  int64  \n",
      " 15  name                  72065 non-null  object \n",
      " 16  character             72065 non-null  object \n",
      " 17  role                  72065 non-null  object \n",
      "dtypes: float64(5), int64(3), object(10)\n",
      "memory usage: 9.9+ MB\n",
      "None\n"
     ]
    }
   ],
   "source": [
    "\n",
    "merged_df = pd.read_csv(str(data_dir)+ r'\\merged_df.csv')\n",
    "print(merged_df.dtypes)\n",
    "print(merged_df.shape)\n",
    "print(merged_df.info())\n"
   ]
  },
  {
   "cell_type": "code",
   "execution_count": 3,
   "id": "d9da87d4",
   "metadata": {},
   "outputs": [
    {
     "name": "stdout",
     "output_type": "stream",
     "text": [
      "       release_year       runtime       seasons    imdb_score    imdb_votes  \\\n",
      "count  72065.000000  72065.000000  72065.000000  72065.000000  7.206500e+04   \n",
      "mean    2014.733893     97.750531      0.378825      6.469064  5.926281e+04   \n",
      "std        8.218854     34.644461      1.283899      1.103679  1.560165e+05   \n",
      "min     1953.000000      0.000000      0.000000      1.600000  5.000000e+00   \n",
      "25%     2013.000000     86.000000      0.000000      5.800000  1.611000e+03   \n",
      "50%     2018.000000    100.000000      0.000000      6.500000  7.304000e+03   \n",
      "75%     2020.000000    118.000000      0.000000      7.300000  4.758800e+04   \n",
      "max     2022.000000    235.000000     42.000000      9.500000  2.268288e+06   \n",
      "\n",
      "       tmdb_popularity    tmdb_score     person_id  \n",
      "count     72065.000000  72065.000000  7.206500e+04  \n",
      "mean         28.596678      6.677558  4.863762e+05  \n",
      "std          68.954376      1.011388  6.061394e+05  \n",
      "min           0.600000      1.000000  7.000000e+00  \n",
      "25%           6.156000      6.000000  3.933000e+04  \n",
      "50%          12.741000      6.700000  1.725720e+05  \n",
      "75%          26.254000      7.400000  8.139880e+05  \n",
      "max        1823.374000     10.000000  2.371585e+06  \n"
     ]
    }
   ],
   "source": [
    "print(merged_df.describe())"
   ]
  },
  {
   "cell_type": "code",
   "execution_count": 4,
   "id": "46108bfe",
   "metadata": {},
   "outputs": [
    {
     "data": {
      "text/html": [
       "<div>\n",
       "<style scoped>\n",
       "    .dataframe tbody tr th:only-of-type {\n",
       "        vertical-align: middle;\n",
       "    }\n",
       "\n",
       "    .dataframe tbody tr th {\n",
       "        vertical-align: top;\n",
       "    }\n",
       "\n",
       "    .dataframe thead th {\n",
       "        text-align: right;\n",
       "    }\n",
       "</style>\n",
       "<table border=\"1\" class=\"dataframe\">\n",
       "  <thead>\n",
       "    <tr style=\"text-align: right;\">\n",
       "      <th></th>\n",
       "      <th>id</th>\n",
       "      <th>title</th>\n",
       "      <th>type</th>\n",
       "      <th>release_year</th>\n",
       "      <th>age_certification</th>\n",
       "      <th>runtime</th>\n",
       "      <th>genres</th>\n",
       "      <th>production_countries</th>\n",
       "      <th>seasons</th>\n",
       "      <th>imdb_id</th>\n",
       "      <th>imdb_score</th>\n",
       "      <th>imdb_votes</th>\n",
       "      <th>tmdb_popularity</th>\n",
       "      <th>tmdb_score</th>\n",
       "      <th>person_id</th>\n",
       "      <th>name</th>\n",
       "      <th>character</th>\n",
       "      <th>role</th>\n",
       "    </tr>\n",
       "  </thead>\n",
       "  <tbody>\n",
       "    <tr>\n",
       "      <th>0</th>\n",
       "      <td>tm84618</td>\n",
       "      <td>Taxi Driver</td>\n",
       "      <td>MOVIE</td>\n",
       "      <td>1976</td>\n",
       "      <td>R</td>\n",
       "      <td>113</td>\n",
       "      <td>['crime', 'drama']</td>\n",
       "      <td>['US']</td>\n",
       "      <td>0.0</td>\n",
       "      <td>tt0075314</td>\n",
       "      <td>8.3</td>\n",
       "      <td>795222.0</td>\n",
       "      <td>27.612</td>\n",
       "      <td>8.2</td>\n",
       "      <td>3748</td>\n",
       "      <td>Robert De Niro</td>\n",
       "      <td>Travis Bickle</td>\n",
       "      <td>ACTOR</td>\n",
       "    </tr>\n",
       "    <tr>\n",
       "      <th>1</th>\n",
       "      <td>tm84618</td>\n",
       "      <td>Taxi Driver</td>\n",
       "      <td>MOVIE</td>\n",
       "      <td>1976</td>\n",
       "      <td>R</td>\n",
       "      <td>113</td>\n",
       "      <td>['crime', 'drama']</td>\n",
       "      <td>['US']</td>\n",
       "      <td>0.0</td>\n",
       "      <td>tt0075314</td>\n",
       "      <td>8.3</td>\n",
       "      <td>795222.0</td>\n",
       "      <td>27.612</td>\n",
       "      <td>8.2</td>\n",
       "      <td>14658</td>\n",
       "      <td>Jodie Foster</td>\n",
       "      <td>Iris Steensma</td>\n",
       "      <td>ACTOR</td>\n",
       "    </tr>\n",
       "    <tr>\n",
       "      <th>2</th>\n",
       "      <td>tm84618</td>\n",
       "      <td>Taxi Driver</td>\n",
       "      <td>MOVIE</td>\n",
       "      <td>1976</td>\n",
       "      <td>R</td>\n",
       "      <td>113</td>\n",
       "      <td>['crime', 'drama']</td>\n",
       "      <td>['US']</td>\n",
       "      <td>0.0</td>\n",
       "      <td>tt0075314</td>\n",
       "      <td>8.3</td>\n",
       "      <td>795222.0</td>\n",
       "      <td>27.612</td>\n",
       "      <td>8.2</td>\n",
       "      <td>7064</td>\n",
       "      <td>Albert Brooks</td>\n",
       "      <td>Tom</td>\n",
       "      <td>ACTOR</td>\n",
       "    </tr>\n",
       "    <tr>\n",
       "      <th>3</th>\n",
       "      <td>tm84618</td>\n",
       "      <td>Taxi Driver</td>\n",
       "      <td>MOVIE</td>\n",
       "      <td>1976</td>\n",
       "      <td>R</td>\n",
       "      <td>113</td>\n",
       "      <td>['crime', 'drama']</td>\n",
       "      <td>['US']</td>\n",
       "      <td>0.0</td>\n",
       "      <td>tt0075314</td>\n",
       "      <td>8.3</td>\n",
       "      <td>795222.0</td>\n",
       "      <td>27.612</td>\n",
       "      <td>8.2</td>\n",
       "      <td>3739</td>\n",
       "      <td>Harvey Keitel</td>\n",
       "      <td>Matthew 'Sport' Higgins</td>\n",
       "      <td>ACTOR</td>\n",
       "    </tr>\n",
       "    <tr>\n",
       "      <th>4</th>\n",
       "      <td>tm84618</td>\n",
       "      <td>Taxi Driver</td>\n",
       "      <td>MOVIE</td>\n",
       "      <td>1976</td>\n",
       "      <td>R</td>\n",
       "      <td>113</td>\n",
       "      <td>['crime', 'drama']</td>\n",
       "      <td>['US']</td>\n",
       "      <td>0.0</td>\n",
       "      <td>tt0075314</td>\n",
       "      <td>8.3</td>\n",
       "      <td>795222.0</td>\n",
       "      <td>27.612</td>\n",
       "      <td>8.2</td>\n",
       "      <td>48933</td>\n",
       "      <td>Cybill Shepherd</td>\n",
       "      <td>Betsy</td>\n",
       "      <td>ACTOR</td>\n",
       "    </tr>\n",
       "  </tbody>\n",
       "</table>\n",
       "</div>"
      ],
      "text/plain": [
       "        id        title   type  release_year age_certification  runtime  \\\n",
       "0  tm84618  Taxi Driver  MOVIE          1976                 R      113   \n",
       "1  tm84618  Taxi Driver  MOVIE          1976                 R      113   \n",
       "2  tm84618  Taxi Driver  MOVIE          1976                 R      113   \n",
       "3  tm84618  Taxi Driver  MOVIE          1976                 R      113   \n",
       "4  tm84618  Taxi Driver  MOVIE          1976                 R      113   \n",
       "\n",
       "               genres production_countries  seasons    imdb_id  imdb_score  \\\n",
       "0  ['crime', 'drama']               ['US']      0.0  tt0075314         8.3   \n",
       "1  ['crime', 'drama']               ['US']      0.0  tt0075314         8.3   \n",
       "2  ['crime', 'drama']               ['US']      0.0  tt0075314         8.3   \n",
       "3  ['crime', 'drama']               ['US']      0.0  tt0075314         8.3   \n",
       "4  ['crime', 'drama']               ['US']      0.0  tt0075314         8.3   \n",
       "\n",
       "   imdb_votes  tmdb_popularity  tmdb_score  person_id             name  \\\n",
       "0    795222.0           27.612         8.2       3748   Robert De Niro   \n",
       "1    795222.0           27.612         8.2      14658     Jodie Foster   \n",
       "2    795222.0           27.612         8.2       7064    Albert Brooks   \n",
       "3    795222.0           27.612         8.2       3739    Harvey Keitel   \n",
       "4    795222.0           27.612         8.2      48933  Cybill Shepherd   \n",
       "\n",
       "                 character   role  \n",
       "0            Travis Bickle  ACTOR  \n",
       "1            Iris Steensma  ACTOR  \n",
       "2                      Tom  ACTOR  \n",
       "3  Matthew 'Sport' Higgins  ACTOR  \n",
       "4                    Betsy  ACTOR  "
      ]
     },
     "execution_count": 4,
     "metadata": {},
     "output_type": "execute_result"
    }
   ],
   "source": [
    "merged_df.head()"
   ]
  },
  {
   "cell_type": "markdown",
   "id": "81f6e95a",
   "metadata": {},
   "source": [
    "## Classification Model - EDA"
   ]
  },
  {
   "cell_type": "code",
   "execution_count": 5,
   "id": "ec65f33d",
   "metadata": {},
   "outputs": [
    {
     "data": {
      "text/html": [
       "<div>\n",
       "<style scoped>\n",
       "    .dataframe tbody tr th:only-of-type {\n",
       "        vertical-align: middle;\n",
       "    }\n",
       "\n",
       "    .dataframe tbody tr th {\n",
       "        vertical-align: top;\n",
       "    }\n",
       "\n",
       "    .dataframe thead th {\n",
       "        text-align: right;\n",
       "    }\n",
       "</style>\n",
       "<table border=\"1\" class=\"dataframe\">\n",
       "  <thead>\n",
       "    <tr style=\"text-align: right;\">\n",
       "      <th></th>\n",
       "      <th>id</th>\n",
       "      <th>title</th>\n",
       "      <th>type</th>\n",
       "      <th>release_year</th>\n",
       "      <th>age_certification</th>\n",
       "      <th>runtime</th>\n",
       "      <th>genres</th>\n",
       "      <th>production_countries</th>\n",
       "      <th>imdb_id</th>\n",
       "      <th>imdb_score</th>\n",
       "      <th>imdb_votes</th>\n",
       "      <th>tmdb_popularity</th>\n",
       "      <th>tmdb_score</th>\n",
       "      <th>person_id</th>\n",
       "      <th>name</th>\n",
       "      <th>character</th>\n",
       "      <th>role</th>\n",
       "    </tr>\n",
       "  </thead>\n",
       "  <tbody>\n",
       "    <tr>\n",
       "      <th>0</th>\n",
       "      <td>tm84618</td>\n",
       "      <td>Taxi Driver</td>\n",
       "      <td>MOVIE</td>\n",
       "      <td>1976</td>\n",
       "      <td>R</td>\n",
       "      <td>113</td>\n",
       "      <td>['crime', 'drama']</td>\n",
       "      <td>['US']</td>\n",
       "      <td>tt0075314</td>\n",
       "      <td>8.3</td>\n",
       "      <td>795222.0</td>\n",
       "      <td>27.612</td>\n",
       "      <td>8.2</td>\n",
       "      <td>3748</td>\n",
       "      <td>Robert De Niro</td>\n",
       "      <td>Travis Bickle</td>\n",
       "      <td>ACTOR</td>\n",
       "    </tr>\n",
       "    <tr>\n",
       "      <th>1</th>\n",
       "      <td>tm84618</td>\n",
       "      <td>Taxi Driver</td>\n",
       "      <td>MOVIE</td>\n",
       "      <td>1976</td>\n",
       "      <td>R</td>\n",
       "      <td>113</td>\n",
       "      <td>['crime', 'drama']</td>\n",
       "      <td>['US']</td>\n",
       "      <td>tt0075314</td>\n",
       "      <td>8.3</td>\n",
       "      <td>795222.0</td>\n",
       "      <td>27.612</td>\n",
       "      <td>8.2</td>\n",
       "      <td>14658</td>\n",
       "      <td>Jodie Foster</td>\n",
       "      <td>Iris Steensma</td>\n",
       "      <td>ACTOR</td>\n",
       "    </tr>\n",
       "    <tr>\n",
       "      <th>2</th>\n",
       "      <td>tm84618</td>\n",
       "      <td>Taxi Driver</td>\n",
       "      <td>MOVIE</td>\n",
       "      <td>1976</td>\n",
       "      <td>R</td>\n",
       "      <td>113</td>\n",
       "      <td>['crime', 'drama']</td>\n",
       "      <td>['US']</td>\n",
       "      <td>tt0075314</td>\n",
       "      <td>8.3</td>\n",
       "      <td>795222.0</td>\n",
       "      <td>27.612</td>\n",
       "      <td>8.2</td>\n",
       "      <td>7064</td>\n",
       "      <td>Albert Brooks</td>\n",
       "      <td>Tom</td>\n",
       "      <td>ACTOR</td>\n",
       "    </tr>\n",
       "    <tr>\n",
       "      <th>3</th>\n",
       "      <td>tm84618</td>\n",
       "      <td>Taxi Driver</td>\n",
       "      <td>MOVIE</td>\n",
       "      <td>1976</td>\n",
       "      <td>R</td>\n",
       "      <td>113</td>\n",
       "      <td>['crime', 'drama']</td>\n",
       "      <td>['US']</td>\n",
       "      <td>tt0075314</td>\n",
       "      <td>8.3</td>\n",
       "      <td>795222.0</td>\n",
       "      <td>27.612</td>\n",
       "      <td>8.2</td>\n",
       "      <td>3739</td>\n",
       "      <td>Harvey Keitel</td>\n",
       "      <td>Matthew 'Sport' Higgins</td>\n",
       "      <td>ACTOR</td>\n",
       "    </tr>\n",
       "    <tr>\n",
       "      <th>4</th>\n",
       "      <td>tm84618</td>\n",
       "      <td>Taxi Driver</td>\n",
       "      <td>MOVIE</td>\n",
       "      <td>1976</td>\n",
       "      <td>R</td>\n",
       "      <td>113</td>\n",
       "      <td>['crime', 'drama']</td>\n",
       "      <td>['US']</td>\n",
       "      <td>tt0075314</td>\n",
       "      <td>8.3</td>\n",
       "      <td>795222.0</td>\n",
       "      <td>27.612</td>\n",
       "      <td>8.2</td>\n",
       "      <td>48933</td>\n",
       "      <td>Cybill Shepherd</td>\n",
       "      <td>Betsy</td>\n",
       "      <td>ACTOR</td>\n",
       "    </tr>\n",
       "  </tbody>\n",
       "</table>\n",
       "</div>"
      ],
      "text/plain": [
       "        id        title   type  release_year age_certification  runtime  \\\n",
       "0  tm84618  Taxi Driver  MOVIE          1976                 R      113   \n",
       "1  tm84618  Taxi Driver  MOVIE          1976                 R      113   \n",
       "2  tm84618  Taxi Driver  MOVIE          1976                 R      113   \n",
       "3  tm84618  Taxi Driver  MOVIE          1976                 R      113   \n",
       "4  tm84618  Taxi Driver  MOVIE          1976                 R      113   \n",
       "\n",
       "               genres production_countries    imdb_id  imdb_score  imdb_votes  \\\n",
       "0  ['crime', 'drama']               ['US']  tt0075314         8.3    795222.0   \n",
       "1  ['crime', 'drama']               ['US']  tt0075314         8.3    795222.0   \n",
       "2  ['crime', 'drama']               ['US']  tt0075314         8.3    795222.0   \n",
       "3  ['crime', 'drama']               ['US']  tt0075314         8.3    795222.0   \n",
       "4  ['crime', 'drama']               ['US']  tt0075314         8.3    795222.0   \n",
       "\n",
       "   tmdb_popularity  tmdb_score  person_id             name  \\\n",
       "0           27.612         8.2       3748   Robert De Niro   \n",
       "1           27.612         8.2      14658     Jodie Foster   \n",
       "2           27.612         8.2       7064    Albert Brooks   \n",
       "3           27.612         8.2       3739    Harvey Keitel   \n",
       "4           27.612         8.2      48933  Cybill Shepherd   \n",
       "\n",
       "                 character   role  \n",
       "0            Travis Bickle  ACTOR  \n",
       "1            Iris Steensma  ACTOR  \n",
       "2                      Tom  ACTOR  \n",
       "3  Matthew 'Sport' Higgins  ACTOR  \n",
       "4                    Betsy  ACTOR  "
      ]
     },
     "execution_count": 5,
     "metadata": {},
     "output_type": "execute_result"
    }
   ],
   "source": [
    "movies_df = merged_df[merged_df['type'] == 'MOVIE']\n",
    "movies_df=movies_df.drop(columns='seasons')\n",
    "movies_df.shape\n",
    "movies_df.head()"
   ]
  },
  {
   "cell_type": "code",
   "execution_count": 6,
   "id": "12d90fe2",
   "metadata": {},
   "outputs": [
    {
     "name": "stdout",
     "output_type": "stream",
     "text": [
      "0        8.0\n",
      "1        8.0\n",
      "2        8.0\n",
      "3        8.0\n",
      "4        8.0\n",
      "        ... \n",
      "72060    2.0\n",
      "72061    2.0\n",
      "72062    2.0\n",
      "72063    2.0\n",
      "72064    2.0\n",
      "Name: imdb_score, Length: 59422, dtype: float64\n"
     ]
    }
   ],
   "source": [
    "# movies_df = movies_df[movies_df['production_countries'] == \"['US']\"]\n",
    "movies_df['imdb_score'] = movies_df['imdb_score'].round()\n",
    "print(movies_df['imdb_score'])"
   ]
  },
  {
   "cell_type": "code",
   "execution_count": 7,
   "id": "ed7cd3a1",
   "metadata": {
    "scrolled": true
   },
   "outputs": [
    {
     "data": {
      "text/html": [
       "<div>\n",
       "<style scoped>\n",
       "    .dataframe tbody tr th:only-of-type {\n",
       "        vertical-align: middle;\n",
       "    }\n",
       "\n",
       "    .dataframe tbody tr th {\n",
       "        vertical-align: top;\n",
       "    }\n",
       "\n",
       "    .dataframe thead th {\n",
       "        text-align: right;\n",
       "    }\n",
       "</style>\n",
       "<table border=\"1\" class=\"dataframe\">\n",
       "  <thead>\n",
       "    <tr style=\"text-align: right;\">\n",
       "      <th></th>\n",
       "      <th>id</th>\n",
       "      <th>title</th>\n",
       "      <th>type</th>\n",
       "      <th>release_year</th>\n",
       "      <th>age_certification</th>\n",
       "      <th>runtime</th>\n",
       "      <th>genres</th>\n",
       "      <th>production_countries</th>\n",
       "      <th>imdb_id</th>\n",
       "      <th>imdb_score</th>\n",
       "      <th>imdb_votes</th>\n",
       "      <th>tmdb_popularity</th>\n",
       "      <th>tmdb_score</th>\n",
       "      <th>person_id</th>\n",
       "      <th>name</th>\n",
       "      <th>character</th>\n",
       "      <th>role</th>\n",
       "      <th>credit_count</th>\n",
       "    </tr>\n",
       "  </thead>\n",
       "  <tbody>\n",
       "    <tr>\n",
       "      <th>0</th>\n",
       "      <td>tm84618</td>\n",
       "      <td>Taxi Driver</td>\n",
       "      <td>MOVIE</td>\n",
       "      <td>1976</td>\n",
       "      <td>R</td>\n",
       "      <td>113</td>\n",
       "      <td>['crime', 'drama']</td>\n",
       "      <td>['US']</td>\n",
       "      <td>tt0075314</td>\n",
       "      <td>8.0</td>\n",
       "      <td>795222.0</td>\n",
       "      <td>27.612</td>\n",
       "      <td>8.2</td>\n",
       "      <td>3748</td>\n",
       "      <td>Robert De Niro</td>\n",
       "      <td>Travis Bickle</td>\n",
       "      <td>ACTOR</td>\n",
       "      <td>9</td>\n",
       "    </tr>\n",
       "    <tr>\n",
       "      <th>1</th>\n",
       "      <td>tm84618</td>\n",
       "      <td>Taxi Driver</td>\n",
       "      <td>MOVIE</td>\n",
       "      <td>1976</td>\n",
       "      <td>R</td>\n",
       "      <td>113</td>\n",
       "      <td>['crime', 'drama']</td>\n",
       "      <td>['US']</td>\n",
       "      <td>tt0075314</td>\n",
       "      <td>8.0</td>\n",
       "      <td>795222.0</td>\n",
       "      <td>27.612</td>\n",
       "      <td>8.2</td>\n",
       "      <td>14658</td>\n",
       "      <td>Jodie Foster</td>\n",
       "      <td>Iris Steensma</td>\n",
       "      <td>ACTOR</td>\n",
       "      <td>1</td>\n",
       "    </tr>\n",
       "    <tr>\n",
       "      <th>2</th>\n",
       "      <td>tm84618</td>\n",
       "      <td>Taxi Driver</td>\n",
       "      <td>MOVIE</td>\n",
       "      <td>1976</td>\n",
       "      <td>R</td>\n",
       "      <td>113</td>\n",
       "      <td>['crime', 'drama']</td>\n",
       "      <td>['US']</td>\n",
       "      <td>tt0075314</td>\n",
       "      <td>8.0</td>\n",
       "      <td>795222.0</td>\n",
       "      <td>27.612</td>\n",
       "      <td>8.2</td>\n",
       "      <td>7064</td>\n",
       "      <td>Albert Brooks</td>\n",
       "      <td>Tom</td>\n",
       "      <td>ACTOR</td>\n",
       "      <td>1</td>\n",
       "    </tr>\n",
       "    <tr>\n",
       "      <th>3</th>\n",
       "      <td>tm84618</td>\n",
       "      <td>Taxi Driver</td>\n",
       "      <td>MOVIE</td>\n",
       "      <td>1976</td>\n",
       "      <td>R</td>\n",
       "      <td>113</td>\n",
       "      <td>['crime', 'drama']</td>\n",
       "      <td>['US']</td>\n",
       "      <td>tt0075314</td>\n",
       "      <td>8.0</td>\n",
       "      <td>795222.0</td>\n",
       "      <td>27.612</td>\n",
       "      <td>8.2</td>\n",
       "      <td>3739</td>\n",
       "      <td>Harvey Keitel</td>\n",
       "      <td>Matthew 'Sport' Higgins</td>\n",
       "      <td>ACTOR</td>\n",
       "      <td>4</td>\n",
       "    </tr>\n",
       "    <tr>\n",
       "      <th>4</th>\n",
       "      <td>tm84618</td>\n",
       "      <td>Taxi Driver</td>\n",
       "      <td>MOVIE</td>\n",
       "      <td>1976</td>\n",
       "      <td>R</td>\n",
       "      <td>113</td>\n",
       "      <td>['crime', 'drama']</td>\n",
       "      <td>['US']</td>\n",
       "      <td>tt0075314</td>\n",
       "      <td>8.0</td>\n",
       "      <td>795222.0</td>\n",
       "      <td>27.612</td>\n",
       "      <td>8.2</td>\n",
       "      <td>48933</td>\n",
       "      <td>Cybill Shepherd</td>\n",
       "      <td>Betsy</td>\n",
       "      <td>ACTOR</td>\n",
       "      <td>3</td>\n",
       "    </tr>\n",
       "  </tbody>\n",
       "</table>\n",
       "</div>"
      ],
      "text/plain": [
       "        id        title   type  release_year age_certification  runtime  \\\n",
       "0  tm84618  Taxi Driver  MOVIE          1976                 R      113   \n",
       "1  tm84618  Taxi Driver  MOVIE          1976                 R      113   \n",
       "2  tm84618  Taxi Driver  MOVIE          1976                 R      113   \n",
       "3  tm84618  Taxi Driver  MOVIE          1976                 R      113   \n",
       "4  tm84618  Taxi Driver  MOVIE          1976                 R      113   \n",
       "\n",
       "               genres production_countries    imdb_id  imdb_score  imdb_votes  \\\n",
       "0  ['crime', 'drama']               ['US']  tt0075314         8.0    795222.0   \n",
       "1  ['crime', 'drama']               ['US']  tt0075314         8.0    795222.0   \n",
       "2  ['crime', 'drama']               ['US']  tt0075314         8.0    795222.0   \n",
       "3  ['crime', 'drama']               ['US']  tt0075314         8.0    795222.0   \n",
       "4  ['crime', 'drama']               ['US']  tt0075314         8.0    795222.0   \n",
       "\n",
       "   tmdb_popularity  tmdb_score  person_id             name  \\\n",
       "0           27.612         8.2       3748   Robert De Niro   \n",
       "1           27.612         8.2      14658     Jodie Foster   \n",
       "2           27.612         8.2       7064    Albert Brooks   \n",
       "3           27.612         8.2       3739    Harvey Keitel   \n",
       "4           27.612         8.2      48933  Cybill Shepherd   \n",
       "\n",
       "                 character   role  credit_count  \n",
       "0            Travis Bickle  ACTOR             9  \n",
       "1            Iris Steensma  ACTOR             1  \n",
       "2                      Tom  ACTOR             1  \n",
       "3  Matthew 'Sport' Higgins  ACTOR             4  \n",
       "4                    Betsy  ACTOR             3  "
      ]
     },
     "execution_count": 7,
     "metadata": {},
     "output_type": "execute_result"
    }
   ],
   "source": [
    "movies_df['credit_count'] = movies_df.groupby('person_id')['person_id'].transform('count')\n",
    "movies_df.head()"
   ]
  },
  {
   "cell_type": "code",
   "execution_count": 8,
   "id": "fc0ac6e7",
   "metadata": {
    "scrolled": false
   },
   "outputs": [
    {
     "data": {
      "image/png": "[encoded data removed]",
      "text/plain": [
       "<Figure size 432x288 with 1 Axes>"
      ]
     },
     "metadata": {
      "needs_background": "light"
     },
     "output_type": "display_data"
    }
   ],
   "source": [
    "aX = sns.boxplot(x=movies_df['credit_count'])"
   ]
  },
  {
   "cell_type": "code",
   "execution_count": 9,
   "id": "84c61df7",
   "metadata": {},
   "outputs": [
    {
     "data": {
      "text/html": [
       "<div>\n",
       "<style scoped>\n",
       "    .dataframe tbody tr th:only-of-type {\n",
       "        vertical-align: middle;\n",
       "    }\n",
       "\n",
       "    .dataframe tbody tr th {\n",
       "        vertical-align: top;\n",
       "    }\n",
       "\n",
       "    .dataframe thead th {\n",
       "        text-align: right;\n",
       "    }\n",
       "</style>\n",
       "<table border=\"1\" class=\"dataframe\">\n",
       "  <thead>\n",
       "    <tr style=\"text-align: right;\">\n",
       "      <th></th>\n",
       "      <th>release_year</th>\n",
       "      <th>age_certification</th>\n",
       "      <th>runtime</th>\n",
       "      <th>genres</th>\n",
       "      <th>name</th>\n",
       "    </tr>\n",
       "  </thead>\n",
       "  <tbody>\n",
       "    <tr>\n",
       "      <th>0</th>\n",
       "      <td>1976</td>\n",
       "      <td>R</td>\n",
       "      <td>113</td>\n",
       "      <td>['crime', 'drama']</td>\n",
       "      <td>Robert De Niro</td>\n",
       "    </tr>\n",
       "    <tr>\n",
       "      <th>1</th>\n",
       "      <td>1976</td>\n",
       "      <td>R</td>\n",
       "      <td>113</td>\n",
       "      <td>['crime', 'drama']</td>\n",
       "      <td>Harvey Keitel</td>\n",
       "    </tr>\n",
       "    <tr>\n",
       "      <th>2</th>\n",
       "      <td>1976</td>\n",
       "      <td>R</td>\n",
       "      <td>113</td>\n",
       "      <td>['crime', 'drama']</td>\n",
       "      <td>Cybill Shepherd</td>\n",
       "    </tr>\n",
       "    <tr>\n",
       "      <th>3</th>\n",
       "      <td>1976</td>\n",
       "      <td>R</td>\n",
       "      <td>113</td>\n",
       "      <td>['crime', 'drama']</td>\n",
       "      <td>Martin Scorsese</td>\n",
       "    </tr>\n",
       "    <tr>\n",
       "      <th>4</th>\n",
       "      <td>1976</td>\n",
       "      <td>R</td>\n",
       "      <td>113</td>\n",
       "      <td>['crime', 'drama']</td>\n",
       "      <td>Debbi Morgan</td>\n",
       "    </tr>\n",
       "  </tbody>\n",
       "</table>\n",
       "</div>"
      ],
      "text/plain": [
       "   release_year age_certification  runtime              genres  \\\n",
       "0          1976                 R      113  ['crime', 'drama']   \n",
       "1          1976                 R      113  ['crime', 'drama']   \n",
       "2          1976                 R      113  ['crime', 'drama']   \n",
       "3          1976                 R      113  ['crime', 'drama']   \n",
       "4          1976                 R      113  ['crime', 'drama']   \n",
       "\n",
       "              name  \n",
       "0   Robert De Niro  \n",
       "1    Harvey Keitel  \n",
       "2  Cybill Shepherd  \n",
       "3  Martin Scorsese  \n",
       "4     Debbi Morgan  "
      ]
     },
     "execution_count": 9,
     "metadata": {},
     "output_type": "execute_result"
    }
   ],
   "source": [
    "#movies_df = movies_df[movies_df['production_countries'] == \"['US']\"]\n",
    "df_mf = movies_df[movies_df['credit_count'] >= 3]\n",
    "df_mf= df_mf.reset_index()\n",
    "X = df_mf.drop(['credit_count','index','imdb_score', 'imdb_votes', 'id', 'imdb_id', 'production_countries', 'character', 'role', 'person_id','tmdb_popularity', 'tmdb_score', 'type', 'title'], axis=1)\n",
    "y = np.array(df_mf[['imdb_score']])\n",
    "np.random.seed(1)\n",
    "\n",
    "X.head()"
   ]
  },
  {
   "cell_type": "code",
   "execution_count": 10,
   "id": "58182401",
   "metadata": {},
   "outputs": [
    {
     "data": {
      "text/html": [
       "<div>\n",
       "<style scoped>\n",
       "    .dataframe tbody tr th:only-of-type {\n",
       "        vertical-align: middle;\n",
       "    }\n",
       "\n",
       "    .dataframe tbody tr th {\n",
       "        vertical-align: top;\n",
       "    }\n",
       "\n",
       "    .dataframe thead th {\n",
       "        text-align: right;\n",
       "    }\n",
       "</style>\n",
       "<table border=\"1\" class=\"dataframe\">\n",
       "  <thead>\n",
       "    <tr style=\"text-align: right;\">\n",
       "      <th></th>\n",
       "      <th>release_year</th>\n",
       "      <th>runtime</th>\n",
       "      <th>age_certification_G</th>\n",
       "      <th>age_certification_NC-17</th>\n",
       "      <th>age_certification_NR</th>\n",
       "      <th>age_certification_PG</th>\n",
       "      <th>age_certification_PG-13</th>\n",
       "      <th>age_certification_R</th>\n",
       "      <th>genres_['action', 'animation', 'comedy', 'drama', 'fantasy']</th>\n",
       "      <th>genres_['action', 'animation', 'comedy', 'family', 'scifi', 'fantasy']</th>\n",
       "      <th>...</th>\n",
       "      <th>name_Àlex Monner</th>\n",
       "      <th>name_Álvaro Cervantes</th>\n",
       "      <th>name_Çağlar Çorumlu</th>\n",
       "      <th>name_Ólafur Darri Ólafsson</th>\n",
       "      <th>name_Óscar Jaenada</th>\n",
       "      <th>name_Ülkü Duru</th>\n",
       "      <th>name_İlker Aksum</th>\n",
       "      <th>name_İrem Sak</th>\n",
       "      <th>name_Şafak Sezer</th>\n",
       "      <th>name_Şinasi Yurtsever</th>\n",
       "    </tr>\n",
       "  </thead>\n",
       "  <tbody>\n",
       "    <tr>\n",
       "      <th>0</th>\n",
       "      <td>1976</td>\n",
       "      <td>113</td>\n",
       "      <td>0</td>\n",
       "      <td>0</td>\n",
       "      <td>0</td>\n",
       "      <td>0</td>\n",
       "      <td>0</td>\n",
       "      <td>1</td>\n",
       "      <td>0</td>\n",
       "      <td>0</td>\n",
       "      <td>...</td>\n",
       "      <td>0</td>\n",
       "      <td>0</td>\n",
       "      <td>0</td>\n",
       "      <td>0</td>\n",
       "      <td>0</td>\n",
       "      <td>0</td>\n",
       "      <td>0</td>\n",
       "      <td>0</td>\n",
       "      <td>0</td>\n",
       "      <td>0</td>\n",
       "    </tr>\n",
       "    <tr>\n",
       "      <th>1</th>\n",
       "      <td>1976</td>\n",
       "      <td>113</td>\n",
       "      <td>0</td>\n",
       "      <td>0</td>\n",
       "      <td>0</td>\n",
       "      <td>0</td>\n",
       "      <td>0</td>\n",
       "      <td>1</td>\n",
       "      <td>0</td>\n",
       "      <td>0</td>\n",
       "      <td>...</td>\n",
       "      <td>0</td>\n",
       "      <td>0</td>\n",
       "      <td>0</td>\n",
       "      <td>0</td>\n",
       "      <td>0</td>\n",
       "      <td>0</td>\n",
       "      <td>0</td>\n",
       "      <td>0</td>\n",
       "      <td>0</td>\n",
       "      <td>0</td>\n",
       "    </tr>\n",
       "    <tr>\n",
       "      <th>2</th>\n",
       "      <td>1976</td>\n",
       "      <td>113</td>\n",
       "      <td>0</td>\n",
       "      <td>0</td>\n",
       "      <td>0</td>\n",
       "      <td>0</td>\n",
       "      <td>0</td>\n",
       "      <td>1</td>\n",
       "      <td>0</td>\n",
       "      <td>0</td>\n",
       "      <td>...</td>\n",
       "      <td>0</td>\n",
       "      <td>0</td>\n",
       "      <td>0</td>\n",
       "      <td>0</td>\n",
       "      <td>0</td>\n",
       "      <td>0</td>\n",
       "      <td>0</td>\n",
       "      <td>0</td>\n",
       "      <td>0</td>\n",
       "      <td>0</td>\n",
       "    </tr>\n",
       "    <tr>\n",
       "      <th>3</th>\n",
       "      <td>1976</td>\n",
       "      <td>113</td>\n",
       "      <td>0</td>\n",
       "      <td>0</td>\n",
       "      <td>0</td>\n",
       "      <td>0</td>\n",
       "      <td>0</td>\n",
       "      <td>1</td>\n",
       "      <td>0</td>\n",
       "      <td>0</td>\n",
       "      <td>...</td>\n",
       "      <td>0</td>\n",
       "      <td>0</td>\n",
       "      <td>0</td>\n",
       "      <td>0</td>\n",
       "      <td>0</td>\n",
       "      <td>0</td>\n",
       "      <td>0</td>\n",
       "      <td>0</td>\n",
       "      <td>0</td>\n",
       "      <td>0</td>\n",
       "    </tr>\n",
       "    <tr>\n",
       "      <th>4</th>\n",
       "      <td>1976</td>\n",
       "      <td>113</td>\n",
       "      <td>0</td>\n",
       "      <td>0</td>\n",
       "      <td>0</td>\n",
       "      <td>0</td>\n",
       "      <td>0</td>\n",
       "      <td>1</td>\n",
       "      <td>0</td>\n",
       "      <td>0</td>\n",
       "      <td>...</td>\n",
       "      <td>0</td>\n",
       "      <td>0</td>\n",
       "      <td>0</td>\n",
       "      <td>0</td>\n",
       "      <td>0</td>\n",
       "      <td>0</td>\n",
       "      <td>0</td>\n",
       "      <td>0</td>\n",
       "      <td>0</td>\n",
       "      <td>0</td>\n",
       "    </tr>\n",
       "  </tbody>\n",
       "</table>\n",
       "<p>5 rows × 4128 columns</p>\n",
       "</div>"
      ],
      "text/plain": [
       "   release_year  runtime  age_certification_G  age_certification_NC-17  \\\n",
       "0          1976      113                    0                        0   \n",
       "1          1976      113                    0                        0   \n",
       "2          1976      113                    0                        0   \n",
       "3          1976      113                    0                        0   \n",
       "4          1976      113                    0                        0   \n",
       "\n",
       "   age_certification_NR  age_certification_PG  age_certification_PG-13  \\\n",
       "0                     0                     0                        0   \n",
       "1                     0                     0                        0   \n",
       "2                     0                     0                        0   \n",
       "3                     0                     0                        0   \n",
       "4                     0                     0                        0   \n",
       "\n",
       "   age_certification_R  \\\n",
       "0                    1   \n",
       "1                    1   \n",
       "2                    1   \n",
       "3                    1   \n",
       "4                    1   \n",
       "\n",
       "   genres_['action', 'animation', 'comedy', 'drama', 'fantasy']  \\\n",
       "0                                                  0              \n",
       "1                                                  0              \n",
       "2                                                  0              \n",
       "3                                                  0              \n",
       "4                                                  0              \n",
       "\n",
       "   genres_['action', 'animation', 'comedy', 'family', 'scifi', 'fantasy']  \\\n",
       "0                                                  0                        \n",
       "1                                                  0                        \n",
       "2                                                  0                        \n",
       "3                                                  0                        \n",
       "4                                                  0                        \n",
       "\n",
       "   ...  name_Àlex Monner  name_Álvaro Cervantes  name_Çağlar Çorumlu  \\\n",
       "0  ...                 0                      0                    0   \n",
       "1  ...                 0                      0                    0   \n",
       "2  ...                 0                      0                    0   \n",
       "3  ...                 0                      0                    0   \n",
       "4  ...                 0                      0                    0   \n",
       "\n",
       "   name_Ólafur Darri Ólafsson  name_Óscar Jaenada  name_Ülkü Duru  \\\n",
       "0                           0                   0               0   \n",
       "1                           0                   0               0   \n",
       "2                           0                   0               0   \n",
       "3                           0                   0               0   \n",
       "4                           0                   0               0   \n",
       "\n",
       "   name_İlker Aksum  name_İrem Sak  name_Şafak Sezer  name_Şinasi Yurtsever  \n",
       "0                 0              0                 0                      0  \n",
       "1                 0              0                 0                      0  \n",
       "2                 0              0                 0                      0  \n",
       "3                 0              0                 0                      0  \n",
       "4                 0              0                 0                      0  \n",
       "\n",
       "[5 rows x 4128 columns]"
      ]
     },
     "execution_count": 10,
     "metadata": {},
     "output_type": "execute_result"
    }
   ],
   "source": [
    "X = pd.get_dummies(X, columns=['age_certification','genres','name'])\n",
    "X.head()"
   ]
  },
  {
   "cell_type": "code",
   "execution_count": 11,
   "id": "92e5777b",
   "metadata": {},
   "outputs": [],
   "source": [
    "# data_dir_df = os.path.join(data_dir, 'df_mf_dummied.csv')\n",
    "# if not os.path.exists(data_dir_df):\n",
    "#    df_mf.to_csv(data_dir_df, index=False)"
   ]
  },
  {
   "cell_type": "code",
   "execution_count": 12,
   "id": "772772ea",
   "metadata": {},
   "outputs": [
    {
     "name": "stdout",
     "output_type": "stream",
     "text": [
      "(9488, 4128) (9488, 1)\n",
      "(4067, 4128) (4067, 1)\n"
     ]
    }
   ],
   "source": [
    "X_train, X_test, y_train, y_test = train_test_split(X, y, test_size=0.3)\n",
    "print(X_train.shape, y_train.shape)\n",
    "print(X_test.shape, y_test.shape)"
   ]
  },
  {
   "cell_type": "code",
   "execution_count": 13,
   "id": "8364ec64",
   "metadata": {},
   "outputs": [
    {
     "data": {
      "text/plain": [
       "array([0.90147524, 0.8914647 , 0.8967334 , 0.90880337, 0.89351608])"
      ]
     },
     "execution_count": 13,
     "metadata": {},
     "output_type": "execute_result"
    }
   ],
   "source": [
    "RF_pipe = make_pipeline(\n",
    "    StandardScaler(),\n",
    "    RandomForestClassifier(random_state=1995)\n",
    ")\n",
    "\n",
    "rf_default_cv_results = cross_validate(RF_pipe, X_train, y_train, cv=5)\n",
    "rf_cv_scores = rf_default_cv_results['test_score']\n",
    "rf_cv_scores"
   ]
  },
  {
   "cell_type": "code",
   "execution_count": 14,
   "id": "57be3872",
   "metadata": {},
   "outputs": [
    {
     "data": {
      "text/plain": [
       "(0.8983985584248435, 0.006203481057282204)"
      ]
     },
     "execution_count": 14,
     "metadata": {},
     "output_type": "execute_result"
    }
   ],
   "source": [
    "np.mean(rf_cv_scores), np.std(rf_cv_scores)"
   ]
  },
  {
   "cell_type": "code",
   "execution_count": 22,
   "id": "25bf22e8",
   "metadata": {},
   "outputs": [
    {
     "data": {
      "text/plain": [
       "{'randomforestclassifier__n_estimators': [10,\n",
       "  12,\n",
       "  16,\n",
       "  20,\n",
       "  26,\n",
       "  33,\n",
       "  42,\n",
       "  54,\n",
       "  69,\n",
       "  88,\n",
       "  112,\n",
       "  143,\n",
       "  183,\n",
       "  233,\n",
       "  297,\n",
       "  379,\n",
       "  483,\n",
       "  615,\n",
       "  784,\n",
       "  1000],\n",
       " 'standardscaler': [StandardScaler(), None]}"
      ]
     },
     "execution_count": 22,
     "metadata": {},
     "output_type": "execute_result"
    }
   ],
   "source": [
    "n_est = [int(n) for n in np.logspace(start=1, stop=3, num=20, base=10)]\n",
    "grid_params = {\n",
    "        'randomforestclassifier__n_estimators': n_est,\n",
    "        'standardscaler': [StandardScaler(), None],\n",
    "}\n",
    "grid_params"
   ]
  },
  {
   "cell_type": "code",
   "execution_count": 23,
   "id": "82672b0f",
   "metadata": {},
   "outputs": [],
   "source": [
    "rf_grid_cv = GridSearchCV(RF_pipe, param_grid=grid_params, cv=5, n_jobs=-1)"
   ]
  },
  {
   "cell_type": "code",
   "execution_count": 41,
   "id": "fb8c9eb8",
   "metadata": {},
   "outputs": [
    {
     "name": "stdout",
     "output_type": "stream",
     "text": [
      "None\n"
     ]
    },
    {
     "data": {
      "text/plain": [
       "GridSearchCV(cv=5,\n",
       "             estimator=Pipeline(steps=[('standardscaler', StandardScaler()),\n",
       "                                       ('randomforestclassifier',\n",
       "                                        RandomForestClassifier(random_state=1995))]),\n",
       "             n_jobs=-1,\n",
       "             param_grid={'randomforestclassifier__n_estimators': [10, 12, 16,\n",
       "                                                                  20, 26, 33,\n",
       "                                                                  42, 54, 69,\n",
       "                                                                  88, 112, 143,\n",
       "                                                                  183, 233, 297,\n",
       "                                                                  379, 483, 615,\n",
       "                                                                  784, 1000],\n",
       "                         'standardscaler': [StandardScaler(), None]})"
      ]
     },
     "execution_count": 41,
     "metadata": {},
     "output_type": "execute_result"
    }
   ],
   "source": [
    "import time\n",
    "print(time.sleep(3))\n",
    "\n",
    "rf_grid_cv.fit(X_train, y_train)"
   ]
  },
  {
   "cell_type": "code",
   "execution_count": 42,
   "id": "07928f6a",
   "metadata": {},
   "outputs": [
    {
     "data": {
      "text/plain": [
       "{'randomforestclassifier__n_estimators': 112,\n",
       " 'standardscaler': StandardScaler()}"
      ]
     },
     "execution_count": 42,
     "metadata": {},
     "output_type": "execute_result"
    }
   ],
   "source": [
    "rf_grid_cv.best_params_"
   ]
  },
  {
   "cell_type": "code",
   "execution_count": 43,
   "id": "34bb3568",
   "metadata": {},
   "outputs": [
    {
     "data": {
      "text/plain": [
       "(array([0.90147524, 0.89199157, 0.89620653, 0.91091197, 0.89404323]),\n",
       " 0.8989257065534677,\n",
       " 0.0067747368242083985)"
      ]
     },
     "execution_count": 43,
     "metadata": {},
     "output_type": "execute_result"
    }
   ],
   "source": [
    "rf_best_cv_results = cross_validate(rf_grid_cv.best_estimator_, X_train, y_train, cv=5)\n",
    "rf_best_scores = rf_best_cv_results['test_score']\n",
    "rf_best_scores, np.mean(rf_best_scores), np.std(rf_best_scores)"
   ]
  },
  {
   "cell_type": "code",
   "execution_count": 76,
   "id": "64531f23",
   "metadata": {},
   "outputs": [
    {
     "data": {
      "image/png": "[encoded data removed]",
      "text/plain": [
       "<Figure size 720x360 with 1 Axes>"
      ]
     },
     "metadata": {
      "needs_background": "light"
     },
     "output_type": "display_data"
    }
   ],
   "source": [
    "plt.subplots(figsize=(10, 5))\n",
    "imps = rf_grid_cv.best_estimator_.named_steps.randomforestclassifier.feature_importances_\n",
    "imps = imps[:5]\n",
    "rf_feat_imps = pd.Series(imps, index=X_train.columns[:5]).sort_values(ascending=False)\n",
    "rf_feat_imps.plot(kind='bar')\n",
    "plt.xlabel('features')\n",
    "plt.xticks(rotation=45)\n",
    "plt.ylabel('importance')\n",
    "\n",
    "plt.title('Top 5 RandomForestClassifier Features by Importance');"
   ]
  },
  {
   "cell_type": "code",
   "execution_count": 50,
   "id": "0c931718",
   "metadata": {
    "scrolled": false
   },
   "outputs": [
    {
     "data": {
      "text/plain": [
       "RandomForestClassifier(n_estimators=784, random_state=1995)"
      ]
     },
     "execution_count": 50,
     "metadata": {},
     "output_type": "execute_result"
    }
   ],
   "source": [
    "model = RandomForestClassifier(criterion='gini',\n",
    "                                   n_estimators = 784,\n",
    "                                   random_state=1995)\n",
    "model.fit(X_train, y_train)"
   ]
  },
  {
   "cell_type": "code",
   "execution_count": 51,
   "id": "c0098cc8",
   "metadata": {
    "scrolled": true
   },
   "outputs": [
    {
     "name": "stdout",
     "output_type": "stream",
     "text": [
      "[8. 6. 7. 8. 7.]\n"
     ]
    }
   ],
   "source": [
    "y_pred = model.predict(X_test)\n",
    "print(y_pred[0:5,])"
   ]
  },
  {
   "cell_type": "code",
   "execution_count": 52,
   "id": "d8e5720a",
   "metadata": {},
   "outputs": [
    {
     "name": "stdout",
     "output_type": "stream",
     "text": [
      "Confusion Matrix:\n",
      "[[   8    0    0    0    5    0    0    0]\n",
      " [   2   27    0    7    4    0    0    0]\n",
      " [   0    0  128    7   17    6    2    0]\n",
      " [   0    0    1  472   56   15    1    0]\n",
      " [   0    1    3   16 1388   48    9    0]\n",
      " [   0    2    0    8   63 1138   12    0]\n",
      " [   0    0    0    1    9   21  564    0]\n",
      " [   0    0    0    0    2    5    0   19]]\n",
      "Classification Report:\n",
      "{'2.0': {'precision': 0.8, 'recall': 0.6153846153846154, 'f1-score': 0.6956521739130435, 'support': 13}, '3.0': {'precision': 0.9, 'recall': 0.675, 'f1-score': 0.7714285714285714, 'support': 40}, '4.0': {'precision': 0.9696969696969697, 'recall': 0.8, 'f1-score': 0.8767123287671234, 'support': 160}, '5.0': {'precision': 0.923679060665362, 'recall': 0.8660550458715597, 'f1-score': 0.8939393939393939, 'support': 545}, '6.0': {'precision': 0.8989637305699482, 'recall': 0.9474402730375426, 'f1-score': 0.9225656364240611, 'support': 1465}, '7.0': {'precision': 0.9229521492295215, 'recall': 0.9304987735077678, 'f1-score': 0.9267100977198698, 'support': 1223}, '8.0': {'precision': 0.9591836734693877, 'recall': 0.9478991596638655, 'f1-score': 0.9535080304311073, 'support': 595}, '9.0': {'precision': 1.0, 'recall': 0.7307692307692307, 'f1-score': 0.8444444444444443, 'support': 26}, 'accuracy': 0.920580280304893, 'macro avg': {'precision': 0.9218094479538987, 'recall': 0.8141308872793227, 'f1-score': 0.8606200846334519, 'support': 4067}, 'weighted avg': {'precision': 0.9214219898502832, 'recall': 0.920580280304893, 'f1-score': 0.9199875839568322, 'support': 4067}}\n",
      "Accuracy: 92.06%\n"
     ]
    }
   ],
   "source": [
    "from sklearn.metrics import classification_report, confusion_matrix\n",
    "\n",
    "result = confusion_matrix(y_test, y_pred)\n",
    "print(\"Confusion Matrix:\")\n",
    "print(result)\n",
    "result1 = classification_report(y_test, y_pred,output_dict=True)\n",
    "print(\"Classification Report:\",)\n",
    "print (result1)\n",
    "result2 = accuracy_score(y_test,y_pred)\n",
    "print(\"Accuracy: %.2f%%\" %(result2*100.00))"
   ]
  },
  {
   "cell_type": "code",
   "execution_count": 78,
   "id": "5aec1506",
   "metadata": {
    "scrolled": false
   },
   "outputs": [
    {
     "data": {
      "image/png": "[encoded data removed]",
      "text/plain": [
       "<Figure size 576x432 with 2 Axes>"
      ]
     },
     "metadata": {
      "needs_background": "light"
     },
     "output_type": "display_data"
    }
   ],
   "source": [
    "plt.figure(figsize=(8,6))\n",
    "\n",
    "x_axis_labels =[2,3,4,5,6,7,8,9]\n",
    "y_axis_labels =[2,3,4,5,6,7,8,9]\n",
    "ax = sns.heatmap(result, xticklabels=x_axis_labels, yticklabels=y_axis_labels,\n",
    "                 annot=True, fmt=\"d\", linewidths=5)\n",
    "\n",
    "plt.title('Random Forest Confusion Matrix \\nAccuracy:{0:.3f}'.format(accuracy_score(y_test, y_pred)))\n",
    "plt.ylabel('True Score')\n",
    "plt.xlabel('Predicted Score')\n",
    "plt.show()"
   ]
  },
  {
   "cell_type": "code",
   "execution_count": 77,
   "id": "0f7e3530",
   "metadata": {},
   "outputs": [
    {
     "data": {
      "text/plain": [
       "<AxesSubplot:title={'center':'Random Forest Classification Report'}>"
      ]
     },
     "execution_count": 77,
     "metadata": {},
     "output_type": "execute_result"
    },
    {
     "data": {
      "image/png": "[encoded data removed]",
      "text/plain": [
       "<Figure size 864x576 with 2 Axes>"
      ]
     },
     "metadata": {
      "needs_background": "light"
     },
     "output_type": "display_data"
    }
   ],
   "source": [
    "plt.figure(figsize=(12,8))\n",
    "plt.title('Random Forest Classification Report')\n",
    "sns.heatmap(pd.DataFrame(result1).iloc[:-1, :].T, annot=True, linewidths=5)"
   ]
  },
  {
   "cell_type": "code",
   "execution_count": 55,
   "id": "3cdd1e7a",
   "metadata": {},
   "outputs": [
    {
     "name": "stdout",
     "output_type": "stream",
     "text": [
      "Accuracy on training set: 1.000\n",
      "Accuracy on test set: 0.921\n"
     ]
    }
   ],
   "source": [
    "print(\"Accuracy on training set: {:.3f}\".format(model.score(X_train, y_train)))\n",
    "print(\"Accuracy on test set: {:.3f}\".format(model.score(X_test, y_test)))"
   ]
  },
  {
   "cell_type": "code",
   "execution_count": 38,
   "id": "bbb0e3ae",
   "metadata": {
    "scrolled": true
   },
   "outputs": [
    {
     "name": "stdout",
     "output_type": "stream",
     "text": [
      "[00:29:46] WARNING: ..\\src\\learner.cc:1115: Starting in XGBoost 1.3.0, the default evaluation metric used with the objective 'multi:softprob' was changed from 'merror' to 'mlogloss'. Explicitly set eval_metric if you'd like to restore the old behavior.\n",
      "XGBClassifier(base_score=0.5, booster='gbtree', colsample_bylevel=1,\n",
      "              colsample_bynode=1, colsample_bytree=1, enable_categorical=False,\n",
      "              gamma=0, gpu_id=-1, importance_type=None,\n",
      "              interaction_constraints='', learning_rate=0.300000012,\n",
      "              max_delta_step=0, max_depth=6, min_child_weight=1, missing=nan,\n",
      "              monotone_constraints='()', n_estimators=100, n_jobs=16,\n",
      "              num_parallel_tree=1, objective='multi:softprob', predictor='auto',\n",
      "              random_state=0, reg_alpha=0, reg_lambda=1, scale_pos_weight=None,\n",
      "              subsample=1, tree_method='exact', validate_parameters=1,\n",
      "              verbosity=None)\n"
     ]
    }
   ],
   "source": [
    "from xgboost import XGBClassifier\n",
    "X_train.columns = X_train.columns.str.translate(\"\".maketrans({\"[\":\"{\", \"]\":\"}\",\"<\":\"^\"}))\n",
    "XGB =XGBClassifier()\n",
    "XGB.fit(X_train, y_train)\n",
    "print(XGB)"
   ]
  },
  {
   "cell_type": "code",
   "execution_count": 39,
   "id": "d2f1b13b",
   "metadata": {},
   "outputs": [],
   "source": [
    "y_pred = XGB.predict(X_test)\n",
    "predictions = [round(value) for value in y_pred]"
   ]
  },
  {
   "cell_type": "code",
   "execution_count": 40,
   "id": "daf51ec4",
   "metadata": {},
   "outputs": [
    {
     "name": "stdout",
     "output_type": "stream",
     "text": [
      "Accuracy: 75.44%\n"
     ]
    }
   ],
   "source": [
    "accuracy = accuracy_score(y_test, predictions)\n",
    "print(\"Accuracy: %.2f%%\" % (accuracy*100))"
   ]
  },
  {
   "cell_type": "code",
   "execution_count": null,
   "id": "20bfe658",
   "metadata": {},
   "outputs": [],
   "source": []
  }
 ],
 "metadata": {
  "kernelspec": {
   "display_name": "Python 3 (ipykernel)",
   "language": "python",
   "name": "python3"
  },
  "language_info": {
   "codemirror_mode": {
    "name": "ipython",
    "version": 3
   },
   "file_extension": ".py",
   "mimetype": "text/x-python",
   "name": "python",
   "nbconvert_exporter": "python",
   "pygments_lexer": "ipython3",
   "version": "3.9.12"
  }
 },
 "nbformat": 4,
 "nbformat_minor": 5
}
